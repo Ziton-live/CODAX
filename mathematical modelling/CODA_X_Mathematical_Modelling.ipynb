{
  "nbformat": 4,
  "nbformat_minor": 0,
  "metadata": {
    "colab": {
      "provenance": []
    },
    "kernelspec": {
      "name": "python3",
      "display_name": "Python 3"
    },
    "language_info": {
      "name": "python"
    }
  },
  "cells": [
    {
      "cell_type": "markdown",
      "source": [
        "### Data Set Creation\n",
        "\n",
        "Size of the dataset - 10,000 cpu times\n",
        "\n",
        "CPU Times are estiamted for process types and generated based on assumption\n",
        "\n",
        "Type of Process\n",
        "\n",
        "1. OS - 3s - 5s\n",
        "2. GUI - 6s - 8s\n",
        "3. Foreground 10s - 12s\n",
        "4. Background - 12s - 15s\n",
        "5. Backup - 20s"
      ],
      "metadata": {
        "id": "OnulQQfXslKQ"
      }
    },
    {
      "cell_type": "code",
      "execution_count": 1,
      "metadata": {
        "id": "WHhF4CzfrK9H"
      },
      "outputs": [],
      "source": [
        "import random\n",
        "import statistics \n",
        "import math\n",
        "import numpy as np\n",
        "import pandas as pd\n",
        "import matplotlib.pyplot as plt\n",
        "import seaborn as sns"
      ]
    },
    {
      "cell_type": "code",
      "source": [
        "def os_cpu_time():\n",
        "  return random.choice([3,4,5])\n",
        "\n",
        "def gui_cpu_time():\n",
        "  return random.choice([6,7,8])\n",
        "\n",
        "def fg_cpu_time():\n",
        "  return random.choice([10,11,12])\n",
        "\n",
        "def bg_cpu_time():\n",
        "  return random.choice([12,13,14,15])\n",
        "\n",
        "def bk_cpu_time():\n",
        "  return random.choice([18,19,20,21])"
      ],
      "metadata": {
        "id": "TAjLg-VrtnVA"
      },
      "execution_count": 2,
      "outputs": []
    },
    {
      "cell_type": "code",
      "source": [
        "result = []\n",
        "for _ in range(10000):\n",
        "  result.append(random.choice([os_cpu_time, gui_cpu_time, fg_cpu_time, bg_cpu_time, bk_cpu_time])())"
      ],
      "metadata": {
        "id": "bA8Bo-hot9be"
      },
      "execution_count": 3,
      "outputs": []
    },
    {
      "cell_type": "code",
      "source": [
        "assert len(result) == 10000"
      ],
      "metadata": {
        "id": "TrUsI5SiuS4k"
      },
      "execution_count": 4,
      "outputs": []
    },
    {
      "cell_type": "code",
      "source": [
        "print(result[:20])"
      ],
      "metadata": {
        "colab": {
          "base_uri": "https://localhost:8080/"
        },
        "id": "2b1t09rvuV42",
        "outputId": "c756a7ae-93d0-4871-959d-cee266143bc9"
      },
      "execution_count": 5,
      "outputs": [
        {
          "output_type": "stream",
          "name": "stdout",
          "text": [
            "[7, 15, 6, 13, 11, 19, 11, 6, 3, 19, 21, 12, 20, 18, 21, 8, 6, 11, 18, 14]\n"
          ]
        }
      ]
    },
    {
      "cell_type": "markdown",
      "source": [
        "### Chebyshev's inequality\n",
        "\n"
      ],
      "metadata": {
        "id": "maLI-HEruv5e"
      }
    },
    {
      "cell_type": "markdown",
      "source": [
        "![208390480-3e4afe09-59d0-4b50-accd-46842a139019.png](data:image/png;base64,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)"
      ],
      "metadata": {
        "id": "qRisAAzEvCvG"
      }
    },
    {
      "cell_type": "code",
      "source": [
        "tmax = max(result)\n",
        "mean = statistics.mean(result)\n",
        "stdev = statistics.stdev(result)\n",
        "k = range(20)\n",
        "l1 = []"
      ],
      "metadata": {
        "id": "c7O7o_9DugXQ"
      },
      "execution_count": 6,
      "outputs": []
    },
    {
      "cell_type": "code",
      "source": [
        "for _ in k:\n",
        "  r = max(tmax, mean + _ * stdev)\n",
        "  print(f\"For k = {_} Threshold = {r}\")\n",
        "  l1.append(r)"
      ],
      "metadata": {
        "colab": {
          "base_uri": "https://localhost:8080/"
        },
        "id": "gA7U-7JgvtKD",
        "outputId": "9e88abcf-60cb-42b0-9f6e-2020e59f2d16"
      },
      "execution_count": 7,
      "outputs": [
        {
          "output_type": "stream",
          "name": "stdout",
          "text": [
            "For k = 0 Threshold = 21\n",
            "For k = 1 Threshold = 21\n",
            "For k = 2 Threshold = 22.086851551230243\n",
            "For k = 3 Threshold = 27.593877326845366\n",
            "For k = 4 Threshold = 33.100903102460485\n",
            "For k = 5 Threshold = 38.607928878075604\n",
            "For k = 6 Threshold = 44.11495465369073\n",
            "For k = 7 Threshold = 49.62198042930585\n",
            "For k = 8 Threshold = 55.12900620492097\n",
            "For k = 9 Threshold = 60.63603198053609\n",
            "For k = 10 Threshold = 66.14305775615121\n",
            "For k = 11 Threshold = 71.65008353176634\n",
            "For k = 12 Threshold = 77.15710930738146\n",
            "For k = 13 Threshold = 82.66413508299658\n",
            "For k = 14 Threshold = 88.1711608586117\n",
            "For k = 15 Threshold = 93.67818663422682\n",
            "For k = 16 Threshold = 99.18521240984194\n",
            "For k = 17 Threshold = 104.69223818545706\n",
            "For k = 18 Threshold = 110.19926396107218\n",
            "For k = 19 Threshold = 115.7062897366873\n"
          ]
        }
      ]
    },
    {
      "cell_type": "markdown",
      "source": [
        "### Markov's inequality"
      ],
      "metadata": {
        "id": "b27tHJOaCjYS"
      }
    },
    {
      "cell_type": "markdown",
      "source": [
        "![image\n",
        "](https://wikimedia.org/api/rest_v1/media/math/render/svg/a1786af7aa4d42a93bb9baaa10c334ecc710522e)"
      ],
      "metadata": {
        "id": "acONFR1HCsHy"
      }
    },
    {
      "cell_type": "code",
      "source": [
        "def calc_freq(result):\n",
        "  d = {}\n",
        "  for i in result:\n",
        "    d[i] = d.get(i, 0) + 1\n",
        "  return d\n",
        "\n",
        "def expected_value(result):\n",
        "  d = calc_freq(result)\n",
        "  values = np.asarray(list(d.keys()))\n",
        "  weights = np.asarray(list(d.values()))\n",
        "  return (values * weights).sum() / weights.sum()"
      ],
      "metadata": {
        "id": "C2ITUByVDJvV"
      },
      "execution_count": 8,
      "outputs": []
    },
    {
      "cell_type": "code",
      "source": [
        "x = max(result)\n",
        "e = expected_value(result)\n",
        "a = range(20)\n",
        "l2 = []"
      ],
      "metadata": {
        "id": "87H49m7Jv71n"
      },
      "execution_count": 9,
      "outputs": []
    },
    {
      "cell_type": "code",
      "source": [
        "for _ in a:\n",
        "  r = max(x,  _ * e)\n",
        "  print(f\"For a = {_} Threshold = {r}\")\n",
        "  l2.append(r)"
      ],
      "metadata": {
        "colab": {
          "base_uri": "https://localhost:8080/"
        },
        "id": "YUPIQ5G8EESF",
        "outputId": "99ffdf61-1017-4a35-e5f1-dd3ae3e22ec5"
      },
      "execution_count": 10,
      "outputs": [
        {
          "output_type": "stream",
          "name": "stdout",
          "text": [
            "For a = 0 Threshold = 21\n",
            "For a = 1 Threshold = 21\n",
            "For a = 2 Threshold = 22.1456\n",
            "For a = 3 Threshold = 33.2184\n",
            "For a = 4 Threshold = 44.2912\n",
            "For a = 5 Threshold = 55.364000000000004\n",
            "For a = 6 Threshold = 66.4368\n",
            "For a = 7 Threshold = 77.5096\n",
            "For a = 8 Threshold = 88.5824\n",
            "For a = 9 Threshold = 99.65520000000001\n",
            "For a = 10 Threshold = 110.72800000000001\n",
            "For a = 11 Threshold = 121.80080000000001\n",
            "For a = 12 Threshold = 132.8736\n",
            "For a = 13 Threshold = 143.9464\n",
            "For a = 14 Threshold = 155.0192\n",
            "For a = 15 Threshold = 166.092\n",
            "For a = 16 Threshold = 177.1648\n",
            "For a = 17 Threshold = 188.23760000000001\n",
            "For a = 18 Threshold = 199.31040000000002\n",
            "For a = 19 Threshold = 210.38320000000002\n"
          ]
        }
      ]
    },
    {
      "cell_type": "markdown",
      "source": [
        "### Modified Chebyshev's inequality"
      ],
      "metadata": {
        "id": "6fitZzWQFJ1Y"
      }
    },
    {
      "cell_type": "code",
      "source": [
        "tmax = max(result)\n",
        "mean = statistics.mean(result)\n",
        "var = statistics.variance(result)\n",
        "k = range(20)"
      ],
      "metadata": {
        "id": "nnWI-CbsEd2x"
      },
      "execution_count": 11,
      "outputs": []
    },
    {
      "cell_type": "code",
      "source": [
        "for _ in k:\n",
        "  r = max(tmax * tmax, mean * mean + _ * _ * var + 2 * mean * _ * math.sqrt(var))\n",
        "  print(f\"For k = {_} Threshold = {math.sqrt(r)}\")"
      ],
      "metadata": {
        "colab": {
          "base_uri": "https://localhost:8080/"
        },
        "id": "litcajdJFR44",
        "outputId": "0c6def17-88b5-4c30-d51e-1a70beca527a"
      },
      "execution_count": 12,
      "outputs": [
        {
          "output_type": "stream",
          "name": "stdout",
          "text": [
            "For k = 0 Threshold = 21.0\n",
            "For k = 1 Threshold = 21.0\n",
            "For k = 2 Threshold = 22.086851551230243\n",
            "For k = 3 Threshold = 27.593877326845366\n",
            "For k = 4 Threshold = 33.100903102460485\n",
            "For k = 5 Threshold = 38.60792887807561\n",
            "For k = 6 Threshold = 44.11495465369073\n",
            "For k = 7 Threshold = 49.62198042930585\n",
            "For k = 8 Threshold = 55.12900620492098\n",
            "For k = 9 Threshold = 60.636031980536096\n",
            "For k = 10 Threshold = 66.14305775615121\n",
            "For k = 11 Threshold = 71.65008353176634\n",
            "For k = 12 Threshold = 77.15710930738146\n",
            "For k = 13 Threshold = 82.66413508299658\n",
            "For k = 14 Threshold = 88.1711608586117\n",
            "For k = 15 Threshold = 93.67818663422682\n",
            "For k = 16 Threshold = 99.18521240984194\n",
            "For k = 17 Threshold = 104.69223818545707\n",
            "For k = 18 Threshold = 110.19926396107219\n",
            "For k = 19 Threshold = 115.70628973668731\n"
          ]
        }
      ]
    },
    {
      "cell_type": "code",
      "source": [
        "df = pd.DataFrame(list(zip(l1,l2)), columns=[\"Chebyshev's inequality\",\"Markov's inequality\"])"
      ],
      "metadata": {
        "id": "JDkwplH_FXbR"
      },
      "execution_count": 13,
      "outputs": []
    },
    {
      "cell_type": "code",
      "source": [
        "df.index += 1"
      ],
      "metadata": {
        "id": "mRAe89-tG03v"
      },
      "execution_count": 14,
      "outputs": []
    },
    {
      "cell_type": "code",
      "source": [
        "df"
      ],
      "metadata": {
        "colab": {
          "base_uri": "https://localhost:8080/",
          "height": 676
        },
        "id": "qffZMJvfHSm1",
        "outputId": "b8015897-88ee-4f3a-99c3-e91e114b3ca4"
      },
      "execution_count": 15,
      "outputs": [
        {
          "output_type": "execute_result",
          "data": {
            "text/plain": [
              "    Chebyshev's inequality  Markov's inequality\n",
              "1                21.000000              21.0000\n",
              "2                21.000000              21.0000\n",
              "3                22.086852              22.1456\n",
              "4                27.593877              33.2184\n",
              "5                33.100903              44.2912\n",
              "6                38.607929              55.3640\n",
              "7                44.114955              66.4368\n",
              "8                49.621980              77.5096\n",
              "9                55.129006              88.5824\n",
              "10               60.636032              99.6552\n",
              "11               66.143058             110.7280\n",
              "12               71.650084             121.8008\n",
              "13               77.157109             132.8736\n",
              "14               82.664135             143.9464\n",
              "15               88.171161             155.0192\n",
              "16               93.678187             166.0920\n",
              "17               99.185212             177.1648\n",
              "18              104.692238             188.2376\n",
              "19              110.199264             199.3104\n",
              "20              115.706290             210.3832"
            ],
            "text/html": [
              "\n",
              "  <div id=\"df-456f1b86-8190-4a1d-8c9d-d44ae0b7d197\">\n",
              "    <div class=\"colab-df-container\">\n",
              "      <div>\n",
              "<style scoped>\n",
              "    .dataframe tbody tr th:only-of-type {\n",
              "        vertical-align: middle;\n",
              "    }\n",
              "\n",
              "    .dataframe tbody tr th {\n",
              "        vertical-align: top;\n",
              "    }\n",
              "\n",
              "    .dataframe thead th {\n",
              "        text-align: right;\n",
              "    }\n",
              "</style>\n",
              "<table border=\"1\" class=\"dataframe\">\n",
              "  <thead>\n",
              "    <tr style=\"text-align: right;\">\n",
              "      <th></th>\n",
              "      <th>Chebyshev's inequality</th>\n",
              "      <th>Markov's inequality</th>\n",
              "    </tr>\n",
              "  </thead>\n",
              "  <tbody>\n",
              "    <tr>\n",
              "      <th>1</th>\n",
              "      <td>21.000000</td>\n",
              "      <td>21.0000</td>\n",
              "    </tr>\n",
              "    <tr>\n",
              "      <th>2</th>\n",
              "      <td>21.000000</td>\n",
              "      <td>21.0000</td>\n",
              "    </tr>\n",
              "    <tr>\n",
              "      <th>3</th>\n",
              "      <td>22.086852</td>\n",
              "      <td>22.1456</td>\n",
              "    </tr>\n",
              "    <tr>\n",
              "      <th>4</th>\n",
              "      <td>27.593877</td>\n",
              "      <td>33.2184</td>\n",
              "    </tr>\n",
              "    <tr>\n",
              "      <th>5</th>\n",
              "      <td>33.100903</td>\n",
              "      <td>44.2912</td>\n",
              "    </tr>\n",
              "    <tr>\n",
              "      <th>6</th>\n",
              "      <td>38.607929</td>\n",
              "      <td>55.3640</td>\n",
              "    </tr>\n",
              "    <tr>\n",
              "      <th>7</th>\n",
              "      <td>44.114955</td>\n",
              "      <td>66.4368</td>\n",
              "    </tr>\n",
              "    <tr>\n",
              "      <th>8</th>\n",
              "      <td>49.621980</td>\n",
              "      <td>77.5096</td>\n",
              "    </tr>\n",
              "    <tr>\n",
              "      <th>9</th>\n",
              "      <td>55.129006</td>\n",
              "      <td>88.5824</td>\n",
              "    </tr>\n",
              "    <tr>\n",
              "      <th>10</th>\n",
              "      <td>60.636032</td>\n",
              "      <td>99.6552</td>\n",
              "    </tr>\n",
              "    <tr>\n",
              "      <th>11</th>\n",
              "      <td>66.143058</td>\n",
              "      <td>110.7280</td>\n",
              "    </tr>\n",
              "    <tr>\n",
              "      <th>12</th>\n",
              "      <td>71.650084</td>\n",
              "      <td>121.8008</td>\n",
              "    </tr>\n",
              "    <tr>\n",
              "      <th>13</th>\n",
              "      <td>77.157109</td>\n",
              "      <td>132.8736</td>\n",
              "    </tr>\n",
              "    <tr>\n",
              "      <th>14</th>\n",
              "      <td>82.664135</td>\n",
              "      <td>143.9464</td>\n",
              "    </tr>\n",
              "    <tr>\n",
              "      <th>15</th>\n",
              "      <td>88.171161</td>\n",
              "      <td>155.0192</td>\n",
              "    </tr>\n",
              "    <tr>\n",
              "      <th>16</th>\n",
              "      <td>93.678187</td>\n",
              "      <td>166.0920</td>\n",
              "    </tr>\n",
              "    <tr>\n",
              "      <th>17</th>\n",
              "      <td>99.185212</td>\n",
              "      <td>177.1648</td>\n",
              "    </tr>\n",
              "    <tr>\n",
              "      <th>18</th>\n",
              "      <td>104.692238</td>\n",
              "      <td>188.2376</td>\n",
              "    </tr>\n",
              "    <tr>\n",
              "      <th>19</th>\n",
              "      <td>110.199264</td>\n",
              "      <td>199.3104</td>\n",
              "    </tr>\n",
              "    <tr>\n",
              "      <th>20</th>\n",
              "      <td>115.706290</td>\n",
              "      <td>210.3832</td>\n",
              "    </tr>\n",
              "  </tbody>\n",
              "</table>\n",
              "</div>\n",
              "      <button class=\"colab-df-convert\" onclick=\"convertToInteractive('df-456f1b86-8190-4a1d-8c9d-d44ae0b7d197')\"\n",
              "              title=\"Convert this dataframe to an interactive table.\"\n",
              "              style=\"display:none;\">\n",
              "        \n",
              "  <svg xmlns=\"http://www.w3.org/2000/svg\" height=\"24px\"viewBox=\"0 0 24 24\"\n",
              "       width=\"24px\">\n",
              "    <path d=\"M0 0h24v24H0V0z\" fill=\"none\"/>\n",
              "    <path d=\"M18.56 5.44l.94 2.06.94-2.06 2.06-.94-2.06-.94-.94-2.06-.94 2.06-2.06.94zm-11 1L8.5 8.5l.94-2.06 2.06-.94-2.06-.94L8.5 2.5l-.94 2.06-2.06.94zm10 10l.94 2.06.94-2.06 2.06-.94-2.06-.94-.94-2.06-.94 2.06-2.06.94z\"/><path d=\"M17.41 7.96l-1.37-1.37c-.4-.4-.92-.59-1.43-.59-.52 0-1.04.2-1.43.59L10.3 9.45l-7.72 7.72c-.78.78-.78 2.05 0 2.83L4 21.41c.39.39.9.59 1.41.59.51 0 1.02-.2 1.41-.59l7.78-7.78 2.81-2.81c.8-.78.8-2.07 0-2.86zM5.41 20L4 18.59l7.72-7.72 1.47 1.35L5.41 20z\"/>\n",
              "  </svg>\n",
              "      </button>\n",
              "      \n",
              "  <style>\n",
              "    .colab-df-container {\n",
              "      display:flex;\n",
              "      flex-wrap:wrap;\n",
              "      gap: 12px;\n",
              "    }\n",
              "\n",
              "    .colab-df-convert {\n",
              "      background-color: #E8F0FE;\n",
              "      border: none;\n",
              "      border-radius: 50%;\n",
              "      cursor: pointer;\n",
              "      display: none;\n",
              "      fill: #1967D2;\n",
              "      height: 32px;\n",
              "      padding: 0 0 0 0;\n",
              "      width: 32px;\n",
              "    }\n",
              "\n",
              "    .colab-df-convert:hover {\n",
              "      background-color: #E2EBFA;\n",
              "      box-shadow: 0px 1px 2px rgba(60, 64, 67, 0.3), 0px 1px 3px 1px rgba(60, 64, 67, 0.15);\n",
              "      fill: #174EA6;\n",
              "    }\n",
              "\n",
              "    [theme=dark] .colab-df-convert {\n",
              "      background-color: #3B4455;\n",
              "      fill: #D2E3FC;\n",
              "    }\n",
              "\n",
              "    [theme=dark] .colab-df-convert:hover {\n",
              "      background-color: #434B5C;\n",
              "      box-shadow: 0px 1px 3px 1px rgba(0, 0, 0, 0.15);\n",
              "      filter: drop-shadow(0px 1px 2px rgba(0, 0, 0, 0.3));\n",
              "      fill: #FFFFFF;\n",
              "    }\n",
              "  </style>\n",
              "\n",
              "      <script>\n",
              "        const buttonEl =\n",
              "          document.querySelector('#df-456f1b86-8190-4a1d-8c9d-d44ae0b7d197 button.colab-df-convert');\n",
              "        buttonEl.style.display =\n",
              "          google.colab.kernel.accessAllowed ? 'block' : 'none';\n",
              "\n",
              "        async function convertToInteractive(key) {\n",
              "          const element = document.querySelector('#df-456f1b86-8190-4a1d-8c9d-d44ae0b7d197');\n",
              "          const dataTable =\n",
              "            await google.colab.kernel.invokeFunction('convertToInteractive',\n",
              "                                                     [key], {});\n",
              "          if (!dataTable) return;\n",
              "\n",
              "          const docLinkHtml = 'Like what you see? Visit the ' +\n",
              "            '<a target=\"_blank\" href=https://colab.research.google.com/notebooks/data_table.ipynb>data table notebook</a>'\n",
              "            + ' to learn more about interactive tables.';\n",
              "          element.innerHTML = '';\n",
              "          dataTable['output_type'] = 'display_data';\n",
              "          await google.colab.output.renderOutput(dataTable, element);\n",
              "          const docLink = document.createElement('div');\n",
              "          docLink.innerHTML = docLinkHtml;\n",
              "          element.appendChild(docLink);\n",
              "        }\n",
              "      </script>\n",
              "    </div>\n",
              "  </div>\n",
              "  "
            ]
          },
          "metadata": {},
          "execution_count": 15
        }
      ]
    },
    {
      "cell_type": "code",
      "source": [
        "sns.lineplot(data=df)"
      ],
      "metadata": {
        "colab": {
          "base_uri": "https://localhost:8080/",
          "height": 282
        },
        "id": "orGQPEELKKud",
        "outputId": "d04dfab8-216a-4199-d27a-9d49673ffd37"
      },
      "execution_count": 16,
      "outputs": [
        {
          "output_type": "execute_result",
          "data": {
            "text/plain": [
              "<matplotlib.axes._subplots.AxesSubplot at 0x7fc3c91bfb80>"
            ]
          },
          "metadata": {},
          "execution_count": 16
        },
        {
          "output_type": "display_data",
          "data": {
            "text/plain": [
              "<Figure size 432x288 with 1 Axes>"
            ],
            "image/png": "[encoded data removed]"
          },
          "metadata": {
            "needs_background": "light"
          }
        }
      ]
    },
    {
      "cell_type": "code",
      "source": [
        "plt.figure(figsize=(10, 10))\n",
        "plt.plot(df.index, df[\"Chebyshev's inequality\"], label = \"Chebyshev's inequality\")\n",
        "plt.plot(df.index, df[\"Markov's inequality\"], label = \"Markov's inequality\")\n",
        "plt.legend()\n",
        "plt.show()"
      ],
      "metadata": {
        "colab": {
          "base_uri": "https://localhost:8080/",
          "height": 592
        },
        "id": "rdPjtfoaHTik",
        "outputId": "d877d648-b5df-4e60-d179-ce8f8cb113b7"
      },
      "execution_count": 17,
      "outputs": [
        {
          "output_type": "display_data",
          "data": {
            "text/plain": [
              "<Figure size 720x720 with 1 Axes>"
            ],
            "image/png": "[encoded data removed]"
          },
          "metadata": {
            "needs_background": "light"
          }
        }
      ]
    }
  ]
}